{
 "cells": [
  {
   "cell_type": "code",
   "execution_count": 2,
   "metadata": {},
   "outputs": [],
   "source": [
    "# Import packages\n",
    "import matplotlib\n",
    "import matplotlib.pyplot as plt\n",
    "import numpy as np\n",
    "import pandas as pd\n",
    "from pyspark.sql import SQLContext\n",
    "sqlContext = SQLContext(sc)\n"
   ]
  },
  {
   "cell_type": "code",
   "execution_count": 24,
   "metadata": {},
   "outputs": [],
   "source": [
    "df_blood1_raw = pd.read_excel('2. BLOODWORK_blindedSep28.xlsx')  \n",
    "df_static_raw = pd.read_excel('1. LISTING_blindedSep28.xlsx')\n",
    "df_blood2_raw = pd.read_csv('cleaned_blood2.csv')"
   ]
  },
  {
   "cell_type": "code",
   "execution_count": 25,
   "metadata": {},
   "outputs": [
    {
     "data": {
      "text/html": [
       "<div>\n",
       "<style scoped>\n",
       "    .dataframe tbody tr th:only-of-type {\n",
       "        vertical-align: middle;\n",
       "    }\n",
       "\n",
       "    .dataframe tbody tr th {\n",
       "        vertical-align: top;\n",
       "    }\n",
       "\n",
       "    .dataframe thead th {\n",
       "        text-align: right;\n",
       "    }\n",
       "</style>\n",
       "<table border=\"1\" class=\"dataframe\">\n",
       "  <thead>\n",
       "    <tr style=\"text-align: right;\">\n",
       "      <th></th>\n",
       "      <th>SUBJECT_ID</th>\n",
       "      <th>SUBJECT_KEY</th>\n",
       "      <th>LISTING_DATE</th>\n",
       "      <th>AGE_AT_LISTING</th>\n",
       "      <th>PATIENT_STATUS</th>\n",
       "      <th>PATIENT_STATUS_DESCR</th>\n",
       "      <th>TREATMENT_PHASE</th>\n",
       "      <th>TREATMENT_PHASE_DESCR</th>\n",
       "      <th>TX_NUMBER</th>\n",
       "      <th>SEX</th>\n",
       "      <th>...</th>\n",
       "      <th>BW_4mo</th>\n",
       "      <th>BW_5mo</th>\n",
       "      <th>BW_6mo</th>\n",
       "      <th>BW_7mo</th>\n",
       "      <th>BW_8mo</th>\n",
       "      <th>BW_9mo</th>\n",
       "      <th>BW_10mo</th>\n",
       "      <th>BW_11mo</th>\n",
       "      <th>BW_1yr</th>\n",
       "      <th>BW_&gt;1yr</th>\n",
       "    </tr>\n",
       "  </thead>\n",
       "  <tbody>\n",
       "    <tr>\n",
       "      <th>0</th>\n",
       "      <td>1</td>\n",
       "      <td>1_1</td>\n",
       "      <td>2010-09-24</td>\n",
       "      <td>58.523288</td>\n",
       "      <td>2</td>\n",
       "      <td>Outpatient</td>\n",
       "      <td>5.0</td>\n",
       "      <td>Post-Transplant</td>\n",
       "      <td>1</td>\n",
       "      <td>1</td>\n",
       "      <td>...</td>\n",
       "      <td>1</td>\n",
       "      <td>0</td>\n",
       "      <td>1</td>\n",
       "      <td>1</td>\n",
       "      <td>1</td>\n",
       "      <td>1</td>\n",
       "      <td>1</td>\n",
       "      <td>1</td>\n",
       "      <td>1</td>\n",
       "      <td>1</td>\n",
       "    </tr>\n",
       "    <tr>\n",
       "      <th>1</th>\n",
       "      <td>2</td>\n",
       "      <td>2_1</td>\n",
       "      <td>2005-06-15</td>\n",
       "      <td>58.487671</td>\n",
       "      <td>5</td>\n",
       "      <td>Deceased</td>\n",
       "      <td>4.0</td>\n",
       "      <td>Listed</td>\n",
       "      <td>1</td>\n",
       "      <td>1</td>\n",
       "      <td>...</td>\n",
       "      <td>1</td>\n",
       "      <td>0</td>\n",
       "      <td>1</td>\n",
       "      <td>0</td>\n",
       "      <td>1</td>\n",
       "      <td>1</td>\n",
       "      <td>1</td>\n",
       "      <td>1</td>\n",
       "      <td>1</td>\n",
       "      <td>1</td>\n",
       "    </tr>\n",
       "    <tr>\n",
       "      <th>2</th>\n",
       "      <td>3</td>\n",
       "      <td>3_1</td>\n",
       "      <td>2006-04-12</td>\n",
       "      <td>66.115068</td>\n",
       "      <td>1</td>\n",
       "      <td>Inactive</td>\n",
       "      <td>4.0</td>\n",
       "      <td>Listed</td>\n",
       "      <td>1</td>\n",
       "      <td>2</td>\n",
       "      <td>...</td>\n",
       "      <td>0</td>\n",
       "      <td>1</td>\n",
       "      <td>1</td>\n",
       "      <td>1</td>\n",
       "      <td>1</td>\n",
       "      <td>1</td>\n",
       "      <td>1</td>\n",
       "      <td>1</td>\n",
       "      <td>1</td>\n",
       "      <td>1</td>\n",
       "    </tr>\n",
       "    <tr>\n",
       "      <th>3</th>\n",
       "      <td>4</td>\n",
       "      <td>4_1</td>\n",
       "      <td>2003-07-15</td>\n",
       "      <td>52.309589</td>\n",
       "      <td>1</td>\n",
       "      <td>Inactive</td>\n",
       "      <td>5.0</td>\n",
       "      <td>Post-Transplant</td>\n",
       "      <td>1</td>\n",
       "      <td>2</td>\n",
       "      <td>...</td>\n",
       "      <td>1</td>\n",
       "      <td>0</td>\n",
       "      <td>1</td>\n",
       "      <td>0</td>\n",
       "      <td>1</td>\n",
       "      <td>1</td>\n",
       "      <td>0</td>\n",
       "      <td>1</td>\n",
       "      <td>0</td>\n",
       "      <td>1</td>\n",
       "    </tr>\n",
       "    <tr>\n",
       "      <th>4</th>\n",
       "      <td>5</td>\n",
       "      <td>5_1</td>\n",
       "      <td>2016-12-16</td>\n",
       "      <td>65.539726</td>\n",
       "      <td>2</td>\n",
       "      <td>Outpatient</td>\n",
       "      <td>5.0</td>\n",
       "      <td>Post-Transplant</td>\n",
       "      <td>1</td>\n",
       "      <td>1</td>\n",
       "      <td>...</td>\n",
       "      <td>1</td>\n",
       "      <td>1</td>\n",
       "      <td>1</td>\n",
       "      <td>1</td>\n",
       "      <td>1</td>\n",
       "      <td>1</td>\n",
       "      <td>1</td>\n",
       "      <td>1</td>\n",
       "      <td>1</td>\n",
       "      <td>1</td>\n",
       "    </tr>\n",
       "  </tbody>\n",
       "</table>\n",
       "<p>5 rows × 60 columns</p>\n",
       "</div>"
      ],
      "text/plain": [
       "   SUBJECT_ID SUBJECT_KEY LISTING_DATE  AGE_AT_LISTING  PATIENT_STATUS  \\\n",
       "0           1         1_1   2010-09-24       58.523288               2   \n",
       "1           2         2_1   2005-06-15       58.487671               5   \n",
       "2           3         3_1   2006-04-12       66.115068               1   \n",
       "3           4         4_1   2003-07-15       52.309589               1   \n",
       "4           5         5_1   2016-12-16       65.539726               2   \n",
       "\n",
       "               PATIENT_STATUS_DESCR  TREATMENT_PHASE TREATMENT_PHASE_DESCR  \\\n",
       "0  Outpatient                                    5.0       Post-Transplant   \n",
       "1  Deceased                                      4.0                Listed   \n",
       "2  Inactive                                      4.0                Listed   \n",
       "3  Inactive                                      5.0       Post-Transplant   \n",
       "4  Outpatient                                    5.0       Post-Transplant   \n",
       "\n",
       "   TX_NUMBER  SEX  ... BW_4mo  BW_5mo BW_6mo  BW_7mo  BW_8mo  BW_9mo BW_10mo  \\\n",
       "0          1    1  ...      1       0      1       1       1       1       1   \n",
       "1          1    1  ...      1       0      1       0       1       1       1   \n",
       "2          1    2  ...      0       1      1       1       1       1       1   \n",
       "3          1    2  ...      1       0      1       0       1       1       0   \n",
       "4          1    1  ...      1       1      1       1       1       1       1   \n",
       "\n",
       "   BW_11mo BW_1yr  BW_>1yr  \n",
       "0        1      1        1  \n",
       "1        1      1        1  \n",
       "2        1      1        1  \n",
       "3        1      0        1  \n",
       "4        1      1        1  \n",
       "\n",
       "[5 rows x 60 columns]"
      ]
     },
     "execution_count": 25,
     "metadata": {},
     "output_type": "execute_result"
    }
   ],
   "source": [
    "df_static_raw.head() "
   ]
  },
  {
   "cell_type": "code",
   "execution_count": 26,
   "metadata": {},
   "outputs": [
    {
     "data": {
      "text/html": [
       "<div>\n",
       "<style scoped>\n",
       "    .dataframe tbody tr th:only-of-type {\n",
       "        vertical-align: middle;\n",
       "    }\n",
       "\n",
       "    .dataframe tbody tr th {\n",
       "        vertical-align: top;\n",
       "    }\n",
       "\n",
       "    .dataframe thead th {\n",
       "        text-align: right;\n",
       "    }\n",
       "</style>\n",
       "<table border=\"1\" class=\"dataframe\">\n",
       "  <thead>\n",
       "    <tr style=\"text-align: right;\">\n",
       "      <th></th>\n",
       "      <th>Unnamed: 0</th>\n",
       "      <th>SUBJECT_ID_NA</th>\n",
       "      <th>LISTING_DATE_NA</th>\n",
       "      <th>DATE_OF_LAB_NA</th>\n",
       "      <th>DAYS_FROM_LISTING_NA</th>\n",
       "      <th>avg(NA)</th>\n",
       "      <th>avg(HCO3)</th>\n",
       "      <th>avg(GLUCOSE)</th>\n",
       "      <th>avg(CALCIUM)</th>\n",
       "      <th>avg(MG)</th>\n",
       "      <th>avg(PHOSPHORUS)</th>\n",
       "    </tr>\n",
       "  </thead>\n",
       "  <tbody>\n",
       "    <tr>\n",
       "      <th>0</th>\n",
       "      <td>10002003-08-26 00:00:002003-06-10 00:00:00</td>\n",
       "      <td>1000.0</td>\n",
       "      <td>8/26/2003</td>\n",
       "      <td>6/10/2003</td>\n",
       "      <td>-77.0</td>\n",
       "      <td>129.0</td>\n",
       "      <td>20.5</td>\n",
       "      <td>4.4</td>\n",
       "      <td>2.22</td>\n",
       "      <td>0.69</td>\n",
       "      <td>0.86</td>\n",
       "    </tr>\n",
       "    <tr>\n",
       "      <th>1</th>\n",
       "      <td>10002003-08-26 00:00:002003-09-10 00:00:00</td>\n",
       "      <td>1000.0</td>\n",
       "      <td>8/26/2003</td>\n",
       "      <td>9/10/2003</td>\n",
       "      <td>15.0</td>\n",
       "      <td>137.0</td>\n",
       "      <td>NaN</td>\n",
       "      <td>6.3</td>\n",
       "      <td>NaN</td>\n",
       "      <td>NaN</td>\n",
       "      <td>NaN</td>\n",
       "    </tr>\n",
       "    <tr>\n",
       "      <th>2</th>\n",
       "      <td>10002003-08-26 00:00:002003-11-05 00:00:00</td>\n",
       "      <td>1000.0</td>\n",
       "      <td>8/26/2003</td>\n",
       "      <td>11/5/2003</td>\n",
       "      <td>71.0</td>\n",
       "      <td>134.0</td>\n",
       "      <td>23.0</td>\n",
       "      <td>8.6</td>\n",
       "      <td>NaN</td>\n",
       "      <td>NaN</td>\n",
       "      <td>0.92</td>\n",
       "    </tr>\n",
       "    <tr>\n",
       "      <th>3</th>\n",
       "      <td>10002003-08-26 00:00:002003-11-11 00:00:00</td>\n",
       "      <td>1000.0</td>\n",
       "      <td>8/26/2003</td>\n",
       "      <td>11/11/2003</td>\n",
       "      <td>77.0</td>\n",
       "      <td>131.0</td>\n",
       "      <td>NaN</td>\n",
       "      <td>8.6</td>\n",
       "      <td>NaN</td>\n",
       "      <td>NaN</td>\n",
       "      <td>NaN</td>\n",
       "    </tr>\n",
       "    <tr>\n",
       "      <th>4</th>\n",
       "      <td>10002003-08-26 00:00:002003-12-15 00:00:00</td>\n",
       "      <td>1000.0</td>\n",
       "      <td>8/26/2003</td>\n",
       "      <td>12/15/2003</td>\n",
       "      <td>111.0</td>\n",
       "      <td>133.0</td>\n",
       "      <td>NaN</td>\n",
       "      <td>10.5</td>\n",
       "      <td>NaN</td>\n",
       "      <td>NaN</td>\n",
       "      <td>NaN</td>\n",
       "    </tr>\n",
       "  </tbody>\n",
       "</table>\n",
       "</div>"
      ],
      "text/plain": [
       "                                   Unnamed: 0  SUBJECT_ID_NA LISTING_DATE_NA  \\\n",
       "0  10002003-08-26 00:00:002003-06-10 00:00:00         1000.0       8/26/2003   \n",
       "1  10002003-08-26 00:00:002003-09-10 00:00:00         1000.0       8/26/2003   \n",
       "2  10002003-08-26 00:00:002003-11-05 00:00:00         1000.0       8/26/2003   \n",
       "3  10002003-08-26 00:00:002003-11-11 00:00:00         1000.0       8/26/2003   \n",
       "4  10002003-08-26 00:00:002003-12-15 00:00:00         1000.0       8/26/2003   \n",
       "\n",
       "  DATE_OF_LAB_NA  DAYS_FROM_LISTING_NA  avg(NA)  avg(HCO3)  avg(GLUCOSE)  \\\n",
       "0      6/10/2003                 -77.0    129.0       20.5           4.4   \n",
       "1      9/10/2003                  15.0    137.0        NaN           6.3   \n",
       "2      11/5/2003                  71.0    134.0       23.0           8.6   \n",
       "3     11/11/2003                  77.0    131.0        NaN           8.6   \n",
       "4     12/15/2003                 111.0    133.0        NaN          10.5   \n",
       "\n",
       "   avg(CALCIUM)  avg(MG)  avg(PHOSPHORUS)  \n",
       "0          2.22     0.69             0.86  \n",
       "1           NaN      NaN              NaN  \n",
       "2           NaN      NaN             0.92  \n",
       "3           NaN      NaN              NaN  \n",
       "4           NaN      NaN              NaN  "
      ]
     },
     "execution_count": 26,
     "metadata": {},
     "output_type": "execute_result"
    }
   ],
   "source": [
    "df_blood2_raw.head()"
   ]
  },
  {
   "cell_type": "code",
   "execution_count": 27,
   "metadata": {},
   "outputs": [],
   "source": [
    "df_blood1_raw['SUBJECT_ID'] = df_blood1_raw['SUBJECT_ID'].map(str)"
   ]
  },
  {
   "cell_type": "code",
   "execution_count": 28,
   "metadata": {},
   "outputs": [
    {
     "data": {
      "text/html": [
       "<div>\n",
       "<style scoped>\n",
       "    .dataframe tbody tr th:only-of-type {\n",
       "        vertical-align: middle;\n",
       "    }\n",
       "\n",
       "    .dataframe tbody tr th {\n",
       "        vertical-align: top;\n",
       "    }\n",
       "\n",
       "    .dataframe thead th {\n",
       "        text-align: right;\n",
       "    }\n",
       "</style>\n",
       "<table border=\"1\" class=\"dataframe\">\n",
       "  <thead>\n",
       "    <tr style=\"text-align: right;\">\n",
       "      <th></th>\n",
       "      <th>SUBJECT_ID</th>\n",
       "      <th>LISTING_DATE</th>\n",
       "      <th>DATE_OF_LAB</th>\n",
       "      <th>LAB_INTERVAL</th>\n",
       "      <th>CREAT</th>\n",
       "      <th>BILT</th>\n",
       "      <th>AST</th>\n",
       "      <th>ALT</th>\n",
       "      <th>ALK_PHOS</th>\n",
       "      <th>PLATELETS</th>\n",
       "      <th>WBC</th>\n",
       "      <th>ALB</th>\n",
       "      <th>EST_GFR</th>\n",
       "      <th>MELD</th>\n",
       "      <th>HGB</th>\n",
       "      <th>INR</th>\n",
       "    </tr>\n",
       "  </thead>\n",
       "  <tbody>\n",
       "    <tr>\n",
       "      <th>0</th>\n",
       "      <td>661</td>\n",
       "      <td>2003-02-04</td>\n",
       "      <td>2015-02-04</td>\n",
       "      <td>&gt;1 year</td>\n",
       "      <td>78</td>\n",
       "      <td>11.4</td>\n",
       "      <td>17</td>\n",
       "      <td>21</td>\n",
       "      <td>92</td>\n",
       "      <td>144</td>\n",
       "      <td>8.1</td>\n",
       "      <td>NaN</td>\n",
       "      <td>92</td>\n",
       "      <td>6.0</td>\n",
       "      <td>175</td>\n",
       "      <td>1</td>\n",
       "    </tr>\n",
       "    <tr>\n",
       "      <th>1</th>\n",
       "      <td>661</td>\n",
       "      <td>2003-02-04</td>\n",
       "      <td>2015-01-06</td>\n",
       "      <td>&gt;1 year</td>\n",
       "      <td>81</td>\n",
       "      <td>11.9</td>\n",
       "      <td>87</td>\n",
       "      <td>229</td>\n",
       "      <td>122</td>\n",
       "      <td>151</td>\n",
       "      <td>7.3</td>\n",
       "      <td>NaN</td>\n",
       "      <td>88</td>\n",
       "      <td>6.0</td>\n",
       "      <td>173</td>\n",
       "      <td>1</td>\n",
       "    </tr>\n",
       "    <tr>\n",
       "      <th>2</th>\n",
       "      <td>661</td>\n",
       "      <td>2003-02-04</td>\n",
       "      <td>2014-08-15</td>\n",
       "      <td>&gt;1 year</td>\n",
       "      <td>77</td>\n",
       "      <td>12.1</td>\n",
       "      <td>18</td>\n",
       "      <td>22</td>\n",
       "      <td>93</td>\n",
       "      <td>139</td>\n",
       "      <td>8.1</td>\n",
       "      <td>NaN</td>\n",
       "      <td>93</td>\n",
       "      <td>9.0</td>\n",
       "      <td>179</td>\n",
       "      <td>1.3</td>\n",
       "    </tr>\n",
       "    <tr>\n",
       "      <th>3</th>\n",
       "      <td>661</td>\n",
       "      <td>2003-02-04</td>\n",
       "      <td>2013-08-19</td>\n",
       "      <td>&gt;1 year</td>\n",
       "      <td>77</td>\n",
       "      <td>16</td>\n",
       "      <td>19</td>\n",
       "      <td>22</td>\n",
       "      <td>98</td>\n",
       "      <td>149</td>\n",
       "      <td>8.8</td>\n",
       "      <td>43</td>\n",
       "      <td>NaN</td>\n",
       "      <td>8.0</td>\n",
       "      <td>172</td>\n",
       "      <td>1.12</td>\n",
       "    </tr>\n",
       "    <tr>\n",
       "      <th>4</th>\n",
       "      <td>661</td>\n",
       "      <td>2003-02-04</td>\n",
       "      <td>2013-07-03</td>\n",
       "      <td>&gt;1 year</td>\n",
       "      <td>72</td>\n",
       "      <td>9</td>\n",
       "      <td>19</td>\n",
       "      <td>24</td>\n",
       "      <td>107</td>\n",
       "      <td>134</td>\n",
       "      <td>6.6</td>\n",
       "      <td>NaN</td>\n",
       "      <td>101</td>\n",
       "      <td>6.0</td>\n",
       "      <td>161</td>\n",
       "      <td>1</td>\n",
       "    </tr>\n",
       "  </tbody>\n",
       "</table>\n",
       "</div>"
      ],
      "text/plain": [
       "  SUBJECT_ID LISTING_DATE DATE_OF_LAB LAB_INTERVAL CREAT  BILT AST  ALT  \\\n",
       "0        661   2003-02-04  2015-02-04      >1 year    78  11.4  17   21   \n",
       "1        661   2003-02-04  2015-01-06      >1 year    81  11.9  87  229   \n",
       "2        661   2003-02-04  2014-08-15      >1 year    77  12.1  18   22   \n",
       "3        661   2003-02-04  2013-08-19      >1 year    77    16  19   22   \n",
       "4        661   2003-02-04  2013-07-03      >1 year    72     9  19   24   \n",
       "\n",
       "  ALK_PHOS PLATELETS  WBC  ALB EST_GFR  MELD  HGB   INR  \n",
       "0       92       144  8.1  NaN      92   6.0  175     1  \n",
       "1      122       151  7.3  NaN      88   6.0  173     1  \n",
       "2       93       139  8.1  NaN      93   9.0  179   1.3  \n",
       "3       98       149  8.8   43     NaN   8.0  172  1.12  \n",
       "4      107       134  6.6  NaN     101   6.0  161     1  "
      ]
     },
     "execution_count": 28,
     "metadata": {},
     "output_type": "execute_result"
    }
   ],
   "source": [
    "df_blood1_raw.head()"
   ]
  },
  {
   "cell_type": "markdown",
   "metadata": {},
   "source": [
    "## Data cleaning on blood1 table"
   ]
  },
  {
   "cell_type": "code",
   "execution_count": 29,
   "metadata": {},
   "outputs": [],
   "source": [
    "# Data cleansing: extract numeric part from cells with mixed values ( 117 norm -> 117)\n",
    "df_blood1_raw.INR = df_blood1_raw.INR.map(str)\n",
    "df_blood1_raw.INR = df_blood1_raw.INR.str.extract(r'([-]?[\\d.]*)')\n",
    "df_blood1_raw.CREAT = df_blood1_raw.CREAT.map(str)\n",
    "df_blood1_raw.CREAT = df_blood1_raw.CREAT.str.extract(r'([-]?[\\d.]*)')\n",
    "df_blood1_raw.BILT = df_blood1_raw.BILT.map(str)\n",
    "df_blood1_raw.BILT = df_blood1_raw.BILT.str.extract(r'([-]?[\\d.]*)')\n",
    "df_blood1_raw.AST = df_blood1_raw.AST.map(str)\n",
    "df_blood1_raw.AST = df_blood1_raw.AST.str.extract(r'([-]?[\\d.]*)')\n",
    "df_blood1_raw.ALT = df_blood1_raw.ALT.map(str)\n",
    "df_blood1_raw.ALT = df_blood1_raw.ALT.str.extract(r'([-]?[\\d.]*)')\n",
    "df_blood1_raw.ALK_PHOS = df_blood1_raw.ALK_PHOS.map(str)\n",
    "df_blood1_raw.ALK_PHOS = df_blood1_raw.ALK_PHOS.str.extract(r'([-]?[\\d.]*)')\n",
    "df_blood1_raw.PLATELETS = df_blood1_raw.PLATELETS.map(str)\n",
    "df_blood1_raw.PLATELETS = df_blood1_raw.PLATELETS.str.extract(r'([-]?[\\d.]*)')\n",
    "df_blood1_raw.WBC = df_blood1_raw.WBC.map(str)\n",
    "df_blood1_raw.WBC = df_blood1_raw.WBC.str.extract(r'([-]?[\\d.]*)')\n",
    "df_blood1_raw.ALB = df_blood1_raw.ALB.map(str)\n",
    "df_blood1_raw.ALB = df_blood1_raw.ALB.str.extract(r'([-]?[\\d.]*)')\n",
    "df_blood1_raw.EST_GFR = df_blood1_raw.EST_GFR.map(str)\n",
    "df_blood1_raw.EST_GFR = df_blood1_raw.EST_GFR.str.extract(r'([-]?[\\d.]*)')\n",
    "df_blood1_raw.MELD = df_blood1_raw.MELD.map(str)\n",
    "df_blood1_raw.MELD = df_blood1_raw.MELD.str.extract(r'([-]?[\\d.]*)')\n",
    "df_blood1_raw.HGB = df_blood1_raw.HGB.map(str)\n",
    "df_blood1_raw.HGB = df_blood1_raw.HGB.str.extract(r'([-]?[\\d.]*)')\n"
   ]
  },
  {
   "cell_type": "code",
   "execution_count": 30,
   "metadata": {},
   "outputs": [
    {
     "data": {
      "text/html": [
       "<div>\n",
       "<style scoped>\n",
       "    .dataframe tbody tr th:only-of-type {\n",
       "        vertical-align: middle;\n",
       "    }\n",
       "\n",
       "    .dataframe tbody tr th {\n",
       "        vertical-align: top;\n",
       "    }\n",
       "\n",
       "    .dataframe thead th {\n",
       "        text-align: right;\n",
       "    }\n",
       "</style>\n",
       "<table border=\"1\" class=\"dataframe\">\n",
       "  <thead>\n",
       "    <tr style=\"text-align: right;\">\n",
       "      <th></th>\n",
       "      <th>SUBJECT_ID</th>\n",
       "      <th>LISTING_DATE</th>\n",
       "      <th>DATE_OF_LAB</th>\n",
       "      <th>LAB_INTERVAL</th>\n",
       "      <th>CREAT</th>\n",
       "      <th>BILT</th>\n",
       "      <th>AST</th>\n",
       "      <th>ALT</th>\n",
       "      <th>ALK_PHOS</th>\n",
       "      <th>PLATELETS</th>\n",
       "      <th>WBC</th>\n",
       "      <th>ALB</th>\n",
       "      <th>EST_GFR</th>\n",
       "      <th>MELD</th>\n",
       "      <th>HGB</th>\n",
       "      <th>INR</th>\n",
       "    </tr>\n",
       "  </thead>\n",
       "  <tbody>\n",
       "    <tr>\n",
       "      <th>0</th>\n",
       "      <td>661</td>\n",
       "      <td>2003-02-04</td>\n",
       "      <td>2015-02-04</td>\n",
       "      <td>&gt;1 year</td>\n",
       "      <td>78</td>\n",
       "      <td>11.4</td>\n",
       "      <td>17</td>\n",
       "      <td>21</td>\n",
       "      <td>92</td>\n",
       "      <td>144</td>\n",
       "      <td>8.1</td>\n",
       "      <td></td>\n",
       "      <td>92</td>\n",
       "      <td>6.0</td>\n",
       "      <td>175</td>\n",
       "      <td>1</td>\n",
       "    </tr>\n",
       "    <tr>\n",
       "      <th>1</th>\n",
       "      <td>661</td>\n",
       "      <td>2003-02-04</td>\n",
       "      <td>2015-01-06</td>\n",
       "      <td>&gt;1 year</td>\n",
       "      <td>81</td>\n",
       "      <td>11.9</td>\n",
       "      <td>87</td>\n",
       "      <td>229</td>\n",
       "      <td>122</td>\n",
       "      <td>151</td>\n",
       "      <td>7.3</td>\n",
       "      <td></td>\n",
       "      <td>88</td>\n",
       "      <td>6.0</td>\n",
       "      <td>173</td>\n",
       "      <td>1</td>\n",
       "    </tr>\n",
       "    <tr>\n",
       "      <th>2</th>\n",
       "      <td>661</td>\n",
       "      <td>2003-02-04</td>\n",
       "      <td>2014-08-15</td>\n",
       "      <td>&gt;1 year</td>\n",
       "      <td>77</td>\n",
       "      <td>12.1</td>\n",
       "      <td>18</td>\n",
       "      <td>22</td>\n",
       "      <td>93</td>\n",
       "      <td>139</td>\n",
       "      <td>8.1</td>\n",
       "      <td></td>\n",
       "      <td>93</td>\n",
       "      <td>9.0</td>\n",
       "      <td>179</td>\n",
       "      <td>1.3</td>\n",
       "    </tr>\n",
       "    <tr>\n",
       "      <th>3</th>\n",
       "      <td>661</td>\n",
       "      <td>2003-02-04</td>\n",
       "      <td>2013-08-19</td>\n",
       "      <td>&gt;1 year</td>\n",
       "      <td>77</td>\n",
       "      <td>16</td>\n",
       "      <td>19</td>\n",
       "      <td>22</td>\n",
       "      <td>98</td>\n",
       "      <td>149</td>\n",
       "      <td>8.8</td>\n",
       "      <td>43</td>\n",
       "      <td></td>\n",
       "      <td>8.0</td>\n",
       "      <td>172</td>\n",
       "      <td>1.12</td>\n",
       "    </tr>\n",
       "    <tr>\n",
       "      <th>4</th>\n",
       "      <td>661</td>\n",
       "      <td>2003-02-04</td>\n",
       "      <td>2013-07-03</td>\n",
       "      <td>&gt;1 year</td>\n",
       "      <td>72</td>\n",
       "      <td>9</td>\n",
       "      <td>19</td>\n",
       "      <td>24</td>\n",
       "      <td>107</td>\n",
       "      <td>134</td>\n",
       "      <td>6.6</td>\n",
       "      <td></td>\n",
       "      <td>101</td>\n",
       "      <td>6.0</td>\n",
       "      <td>161</td>\n",
       "      <td>1</td>\n",
       "    </tr>\n",
       "  </tbody>\n",
       "</table>\n",
       "</div>"
      ],
      "text/plain": [
       "  SUBJECT_ID LISTING_DATE DATE_OF_LAB LAB_INTERVAL CREAT  BILT AST  ALT  \\\n",
       "0        661   2003-02-04  2015-02-04      >1 year    78  11.4  17   21   \n",
       "1        661   2003-02-04  2015-01-06      >1 year    81  11.9  87  229   \n",
       "2        661   2003-02-04  2014-08-15      >1 year    77  12.1  18   22   \n",
       "3        661   2003-02-04  2013-08-19      >1 year    77    16  19   22   \n",
       "4        661   2003-02-04  2013-07-03      >1 year    72     9  19   24   \n",
       "\n",
       "  ALK_PHOS PLATELETS  WBC ALB EST_GFR MELD  HGB   INR  \n",
       "0       92       144  8.1          92  6.0  175     1  \n",
       "1      122       151  7.3          88  6.0  173     1  \n",
       "2       93       139  8.1          93  9.0  179   1.3  \n",
       "3       98       149  8.8  43          8.0  172  1.12  \n",
       "4      107       134  6.6         101  6.0  161     1  "
      ]
     },
     "execution_count": 30,
     "metadata": {},
     "output_type": "execute_result"
    }
   ],
   "source": [
    "df_blood1_raw.head()"
   ]
  },
  {
   "cell_type": "code",
   "execution_count": null,
   "metadata": {},
   "outputs": [],
   "source": [
    "df_static_raw['UNLISTED_REASON']"
   ]
  },
  {
   "cell_type": "markdown",
   "metadata": {},
   "source": [
    "## Combine two blood tables "
   ]
  },
  {
   "cell_type": "code",
   "execution_count": 32,
   "metadata": {},
   "outputs": [],
   "source": [
    "#create identifier to join blood tables \n",
    "df_blood1_raw[\"lab_id\"] = df_blood1_raw[\"SUBJECT_ID\"].map(str) + df_blood1_raw[\"LISTING_DATE\"].map(str) + df_blood1_raw[\"DATE_OF_LAB\"].map(str)"
   ]
  },
  {
   "cell_type": "code",
   "execution_count": 33,
   "metadata": {},
   "outputs": [],
   "source": [
    "# rename the columns for the blood2 table \n",
    "df_blood2_raw.columns = ['lab_id', 'SUBJECT_ID_NA', 'LISITNG_DATE','DATE_OF_LAB_NA','DAYS_FROM_LISTING','Na','HCO3','GLUCOSE','CALCIUM','MG','PHOS']"
   ]
  },
  {
   "cell_type": "code",
   "execution_count": 34,
   "metadata": {},
   "outputs": [],
   "source": [
    "df_blood_raw = pd.DataFrame()"
   ]
  },
  {
   "cell_type": "code",
   "execution_count": 35,
   "metadata": {},
   "outputs": [],
   "source": [
    "# join table blood1 and blood 2\n",
    "df_blood_raw = df_blood1_raw.merge(df_blood2_raw, left_on='lab_id', right_on='lab_id',how='outer')\n"
   ]
  },
  {
   "cell_type": "code",
   "execution_count": 37,
   "metadata": {},
   "outputs": [
    {
     "data": {
      "text/plain": [
       "(303305, 27)"
      ]
     },
     "execution_count": 37,
     "metadata": {},
     "output_type": "execute_result"
    }
   ],
   "source": [
    "#df_blood_raw.to_csv('raw_blood.csv')\n",
    "df_blood_raw.head()\n",
    "df_blood_raw.shape"
   ]
  },
  {
   "cell_type": "code",
   "execution_count": 38,
   "metadata": {},
   "outputs": [],
   "source": [
    "# Preparing joining key for blood and static table \n",
    "df_static_raw['LIST_ID'] =  df_static_raw['SUBJECT_ID'].map(str)+df_static_raw['LISTING_DATE'].map(str)\n",
    "df_blood_raw['LIST_ID'] =  df_blood_raw['SUBJECT_ID'].map(str)+df_blood_raw['LISTING_DATE'].map(str)"
   ]
  },
  {
   "cell_type": "code",
   "execution_count": 39,
   "metadata": {},
   "outputs": [],
   "source": [
    "#df_blood_cleaned.to_csv('cleaned_blood.csv')\n",
    "#df_static_raw.to_csv('cleaned_static.csv')"
   ]
  },
  {
   "cell_type": "code",
   "execution_count": 40,
   "metadata": {},
   "outputs": [
    {
     "name": "stderr",
     "output_type": "stream",
     "text": [
      "/home/jupyterlab/conda/lib/python3.6/site-packages/pandas/core/ops.py:1649: FutureWarning: elementwise comparison failed; returning scalar instead, but in the future will perform elementwise comparison\n",
      "  result = method(y)\n",
      "/home/jupyterlab/conda/lib/python3.6/site-packages/ipykernel_launcher.py:10: SettingWithCopyWarning: \n",
      "A value is trying to be set on a copy of a slice from a DataFrame\n",
      "\n",
      "See the caveats in the documentation: http://pandas.pydata.org/pandas-docs/stable/indexing.html#indexing-view-versus-copy\n",
      "  # Remove the CWD from sys.path while we load stuff.\n"
     ]
    },
    {
     "data": {
      "text/plain": [
       "0       178.00\n",
       "1          NaN\n",
       "2       149.00\n",
       "3          NaN\n",
       "4       165.00\n",
       "5       171.00\n",
       "6          NaN\n",
       "7          NaN\n",
       "8       175.00\n",
       "9          NaN\n",
       "10      175.00\n",
       "11      175.00\n",
       "12      179.00\n",
       "13      171.00\n",
       "14         NaN\n",
       "15         NaN\n",
       "16      168.00\n",
       "17      155.00\n",
       "18      171.00\n",
       "19         NaN\n",
       "20         NaN\n",
       "21      181.00\n",
       "22      182.00\n",
       "23      156.00\n",
       "24         NaN\n",
       "25      167.64\n",
       "26         NaN\n",
       "27      193.00\n",
       "28         NaN\n",
       "29      169.00\n",
       "         ...  \n",
       "3361       NaN\n",
       "3362       NaN\n",
       "3363       NaN\n",
       "3364       NaN\n",
       "3365       NaN\n",
       "3366    161.00\n",
       "3367    154.00\n",
       "3368       NaN\n",
       "3369    178.00\n",
       "3370    172.00\n",
       "3371    170.00\n",
       "3372    172.72\n",
       "3373    191.00\n",
       "3374    175.00\n",
       "3375       NaN\n",
       "3376       NaN\n",
       "3377    181.00\n",
       "3378    173.00\n",
       "3379    167.00\n",
       "3380       NaN\n",
       "3381    150.00\n",
       "3382    177.00\n",
       "3383    170.00\n",
       "3384    172.00\n",
       "3385    166.00\n",
       "3386       NaN\n",
       "3387    170.00\n",
       "3388       NaN\n",
       "3389       NaN\n",
       "3390       NaN\n",
       "Name: HEIGHT_AT_LISTING, Length: 3391, dtype: float64"
      ]
     },
     "execution_count": 40,
     "metadata": {},
     "output_type": "execute_result"
    }
   ],
   "source": [
    "# transfer some columns into string in order to generate sql tables \n",
    "df_static_raw['PREV_SURG1'] = df_static_raw['PREV_SURG1'].map(str)\n",
    "df_static_raw['CAUSE_OF_DEATH_DESCR'] = df_static_raw['CAUSE_OF_DEATH_DESCR'].map(str)\n",
    "df_static_raw['TREATMENT_PHASE_DESCR'] = df_static_raw['TREATMENT_PHASE_DESCR'].map(str)\n",
    "df_static_raw['DIALYSIS_TYPE_DESCR'] = df_static_raw['DIALYSIS_TYPE_DESCR'].map(str)\n",
    "df_static_raw['DIALYSIS_START_DATE'] = df_static_raw['DIALYSIS_START_DATE'].map(str)\n",
    "df_static_raw['RH_FACTOR_DESCR'] = df_static_raw['RH_FACTOR_DESCR'].map(str)\n",
    "df_static_raw['SEX_DESCR'] = df_static_raw['SEX_DESCR'].map(str)\n",
    "df_static_raw['PATIENT_STATUS_DESCR'] = df_static_raw['PATIENT_STATUS_DESCR'].map(str)\n",
    "df_static_raw['WEIGHT_AT_LISTING'][df_static_raw['WEIGHT_AT_LISTING'] == '76..2'] = 76.2\n",
    "pd.to_numeric(df_static_raw['WEIGHT_AT_LISTING'])\n",
    "pd.to_numeric(df_static_raw['HEIGHT_AT_LISTING'])\n"
   ]
  },
  {
   "cell_type": "markdown",
   "metadata": {},
   "source": [
    "## Combine static and blood tables "
   ]
  },
  {
   "cell_type": "code",
   "execution_count": 41,
   "metadata": {},
   "outputs": [],
   "source": [
    "# Merge the blood table with the static table\n",
    "left = df_static_raw\n",
    "right = df_blood_raw\n",
    "df_combined_raw = pd.merge(left, right, on='LIST_ID')"
   ]
  },
  {
   "cell_type": "code",
   "execution_count": 42,
   "metadata": {},
   "outputs": [
    {
     "data": {
      "text/plain": [
       "(274867, 88)"
      ]
     },
     "execution_count": 42,
     "metadata": {},
     "output_type": "execute_result"
    }
   ],
   "source": [
    "list(df_combined_raw)\n",
    "df_combined_raw.shape"
   ]
  },
  {
   "cell_type": "code",
   "execution_count": 43,
   "metadata": {},
   "outputs": [],
   "source": [
    "df_combined_raw.to_csv('combined_raw.csv')"
   ]
  },
  {
   "cell_type": "markdown",
   "metadata": {},
   "source": [
    "## Drop and rename colcumns"
   ]
  },
  {
   "cell_type": "code",
   "execution_count": 17,
   "metadata": {},
   "outputs": [
    {
     "name": "stderr",
     "output_type": "stream",
     "text": [
      "/home/jupyterlab/conda/lib/python3.6/site-packages/IPython/core/interactiveshell.py:3020: DtypeWarning: Columns (28,66,67,68,69,70,72,73,74) have mixed types. Specify dtype option on import or set low_memory=False.\n",
      "  interactivity=interactivity, compiler=compiler, result=result)\n"
     ]
    }
   ],
   "source": [
    "df_testing = pd.read_csv('combined_raw.csv')"
   ]
  },
  {
   "cell_type": "code",
   "execution_count": 18,
   "metadata": {},
   "outputs": [
    {
     "data": {
      "text/plain": [
       "(274867, 89)"
      ]
     },
     "execution_count": 18,
     "metadata": {},
     "output_type": "execute_result"
    }
   ],
   "source": [
    "df_testing.shape"
   ]
  },
  {
   "cell_type": "code",
   "execution_count": 19,
   "metadata": {},
   "outputs": [
    {
     "data": {
      "text/plain": [
       "dtype('float64')"
      ]
     },
     "execution_count": 19,
     "metadata": {},
     "output_type": "execute_result"
    }
   ],
   "source": [
    "\n",
    "df_testing['CREAT'] = pd.to_numeric(df_testing['CREAT'], errors='coerce')\n",
    "df_testing['CREAT'].dtypes"
   ]
  },
  {
   "cell_type": "code",
   "execution_count": 20,
   "metadata": {},
   "outputs": [
    {
     "data": {
      "text/plain": [
       "['Unnamed: 0',\n",
       " 'SUBJECT_ID_x',\n",
       " 'SUBJECT_KEY',\n",
       " 'LISTING_DATE_x',\n",
       " 'AGE_AT_LISTING',\n",
       " 'PATIENT_STATUS',\n",
       " 'PATIENT_STATUS_DESCR',\n",
       " 'TREATMENT_PHASE',\n",
       " 'TREATMENT_PHASE_DESCR',\n",
       " 'TX_NUMBER',\n",
       " 'SEX',\n",
       " 'SEX_DESCR',\n",
       " 'RACE',\n",
       " 'RACE_DESCR',\n",
       " 'HEIGHT_AT_LISTING',\n",
       " 'WEIGHT_AT_LISTING',\n",
       " 'BLOOD_TYPE',\n",
       " 'BLOOD_TYPE_DESCR',\n",
       " 'RH_FACTOR',\n",
       " 'RH_FACTOR_DESCR',\n",
       " 'P_DIAG',\n",
       " 'P_DIAG_DESCR',\n",
       " 'SEC_DIAG',\n",
       " 'SEC_DIAG_DESCR',\n",
       " 'SMOKER',\n",
       " 'PREV_SURG1',\n",
       " 'DIALYSIS_TYPE',\n",
       " 'DIALYSIS_TYPE_DESCR',\n",
       " 'DIALYSIS_START_DATE',\n",
       " 'LIFE_SUPPORT',\n",
       " 'VENTILATOR_DEPENDENT',\n",
       " 'IV_INATROPES',\n",
       " 'VAD',\n",
       " 'IABP',\n",
       " 'TIPS',\n",
       " 'ENCEPHALOPATHY',\n",
       " 'VARICES',\n",
       " 'ASCITES',\n",
       " 'UNLISTED_REASON',\n",
       " 'UNLISTED_REASON_DESCR',\n",
       " 'DATE_OF_TRANSPLANT',\n",
       " 'UNLISTED_DATE',\n",
       " 'AGE_AT_UNLISTING',\n",
       " 'AGE_AT_DEATH',\n",
       " 'CAUSE_OF_DEATH',\n",
       " 'CAUSE_OF_DEATH_DESCR',\n",
       " 'Unnamed: 45',\n",
       " 'BW At Listing',\n",
       " 'BW_1mo',\n",
       " 'BW_2mo',\n",
       " 'BW_3mo',\n",
       " 'BW_4mo',\n",
       " 'BW_5mo',\n",
       " 'BW_6mo',\n",
       " 'BW_7mo',\n",
       " 'BW_8mo',\n",
       " 'BW_9mo',\n",
       " 'BW_10mo',\n",
       " 'BW_11mo',\n",
       " 'BW_1yr',\n",
       " 'BW_>1yr',\n",
       " 'LIST_ID',\n",
       " 'SUBJECT_ID_y',\n",
       " 'LISTING_DATE_y',\n",
       " 'DATE_OF_LAB',\n",
       " 'LAB_INTERVAL',\n",
       " 'CREAT',\n",
       " 'BILT',\n",
       " 'AST',\n",
       " 'ALT',\n",
       " 'ALK_PHOS',\n",
       " 'PLATELETS',\n",
       " 'WBC',\n",
       " 'ALB',\n",
       " 'EST_GFR',\n",
       " 'MELD',\n",
       " 'HGB',\n",
       " 'INR',\n",
       " 'lab_id',\n",
       " 'SUBJECT_ID_NA',\n",
       " 'LISITNG_DATE',\n",
       " 'DATE_OF_LAB_NA',\n",
       " 'DAYS_FROM_LISTING',\n",
       " 'Na',\n",
       " 'HCO3',\n",
       " 'GLUCOSE',\n",
       " 'CALCIUM',\n",
       " 'MG',\n",
       " 'PHOS']"
      ]
     },
     "execution_count": 20,
     "metadata": {},
     "output_type": "execute_result"
    }
   ],
   "source": [
    "list(df_testing)"
   ]
  },
  {
   "cell_type": "code",
   "execution_count": 21,
   "metadata": {},
   "outputs": [],
   "source": [
    "df_testing.drop(['Unnamed: 45','SUBJECT_ID_y','LISTING_DATE_y','SUBJECT_ID_NA','LISITNG_DATE','DATE_OF_LAB_NA'],axis=1,inplace = True)\n",
    "df_testing.rename(columns={\"CALCIUM\": \"CALC\"}, inplace=True)\n",
    "df_testing.rename(columns={\"PREV_SURG1\": \"PREV_SURG\"}, inplace=True)"
   ]
  },
  {
   "cell_type": "code",
   "execution_count": 22,
   "metadata": {},
   "outputs": [],
   "source": [
    "df_testing.rename(columns={\"SUBJECT_ID_x\": \"SUBJECT_ID\",\"LISTING_DATE_x\":\"LISTING_DATE\"}, inplace=True)"
   ]
  },
  {
   "cell_type": "code",
   "execution_count": 23,
   "metadata": {},
   "outputs": [],
   "source": [
    "df_testing['BILT'] = pd.to_numeric(df_testing['BILT'], errors='coerce')\n",
    "df_testing['AST'] = pd.to_numeric(df_testing['AST'], errors='coerce')\n",
    "df_testing['ALT'] = pd.to_numeric(df_testing['ALT'], errors='coerce')\n",
    "df_testing['ALK_PHOS'] = pd.to_numeric(df_testing['ALK_PHOS'], errors='coerce')\n",
    "df_testing['PLATELETS'] = pd.to_numeric(df_testing['PLATELETS'], errors='coerce')\n",
    "df_testing['WBC'] = pd.to_numeric(df_testing['WBC'], errors='coerce')\n",
    "df_testing['ALB'] = pd.to_numeric(df_testing['ALB'], errors='coerce')\n",
    "df_testing['HGB'] = pd.to_numeric(df_testing['HGB'], errors='coerce')\n",
    "df_testing['INR'] = pd.to_numeric(df_testing['INR'], errors='coerce')\n",
    "df_testing['CREAT'] = pd.to_numeric(df_testing['CREAT'], errors='coerce')"
   ]
  },
  {
   "cell_type": "code",
   "execution_count": 24,
   "metadata": {},
   "outputs": [
    {
     "data": {
      "text/plain": [
       "(274867, 83)"
      ]
     },
     "execution_count": 24,
     "metadata": {},
     "output_type": "execute_result"
    }
   ],
   "source": [
    "df_testing.shape"
   ]
  },
  {
   "cell_type": "code",
   "execution_count": 25,
   "metadata": {},
   "outputs": [],
   "source": [
    "df_testing['Drop_off'] = 0\n",
    "df_testing.loc[(df_testing.UNLISTED_REASON == 6) | (df_testing.UNLISTED_REASON == 9) | (df_testing.UNLISTED_REASON == 2) | (df_testing.UNLISTED_REASON == 10) | (df_testing.UNLISTED_REASON == 0), \n",
    "               'Drop_off'] = 1  \n",
    "\n",
    "#6 Medical unsuitable\n",
    "#9 Other \n",
    "#2 Patients expired\n",
    "#10 Status change\n",
    "#0 Unknown\n"
   ]
  },
  {
   "cell_type": "code",
   "execution_count": 26,
   "metadata": {},
   "outputs": [],
   "source": [
    "df_testing['UNLISTED_DATE'] = pd.to_datetime(df_testing['UNLISTED_DATE'])\n",
    "df_testing['DATE_OF_LAB'] = pd.to_datetime(df_testing['DATE_OF_LAB'])\n",
    "df_testing['Interval'] = df_testing['UNLISTED_DATE'] - df_testing['DATE_OF_LAB']\n",
    "df_testing['Interval'] = df_testing['Interval'].dt.days"
   ]
  },
  {
   "cell_type": "code",
   "execution_count": null,
   "metadata": {},
   "outputs": [],
   "source": [
    "df_testing"
   ]
  },
  {
   "cell_type": "code",
   "execution_count": 39,
   "metadata": {},
   "outputs": [],
   "source": [
    "df_testing['Drop_3M'] = 0\n",
    "df_testing.loc[(df_testing.Interval <= 90)&(df_testing.Drop_off == 1), 'Drop_3M'] = 1 "
   ]
  },
  {
   "cell_type": "code",
   "execution_count": 36,
   "metadata": {},
   "outputs": [
    {
     "data": {
      "text/plain": [
       "(274867, 86)"
      ]
     },
     "execution_count": 36,
     "metadata": {},
     "output_type": "execute_result"
    }
   ],
   "source": [
    "df_testing.shape"
   ]
  },
  {
   "cell_type": "code",
   "execution_count": 38,
   "metadata": {},
   "outputs": [
    {
     "data": {
      "text/plain": [
       "(58440, 86)"
      ]
     },
     "execution_count": 38,
     "metadata": {},
     "output_type": "execute_result"
    }
   ],
   "source": [
    "df_positive = df_testing[df_testing.Interval > 0]\n",
    "df_positive.shape"
   ]
  },
  {
   "cell_type": "code",
   "execution_count": 40,
   "metadata": {},
   "outputs": [],
   "source": [
    "df_testing.to_csv('combined_2.csv')"
   ]
  },
  {
   "cell_type": "code",
   "execution_count": 31,
   "metadata": {},
   "outputs": [],
   "source": [
    "df_testing.to_excel('combined_2.xlsx')"
   ]
  },
  {
   "cell_type": "code",
   "execution_count": null,
   "metadata": {},
   "outputs": [],
   "source": []
  }
 ],
 "metadata": {
  "kernelspec": {
   "display_name": "Python 3",
   "language": "python",
   "name": "python3"
  },
  "language_info": {
   "codemirror_mode": {
    "name": "ipython",
    "version": 3
   },
   "file_extension": ".py",
   "mimetype": "text/x-python",
   "name": "python",
   "nbconvert_exporter": "python",
   "pygments_lexer": "ipython3",
   "version": "3.6.8"
  }
 },
 "nbformat": 4,
 "nbformat_minor": 2
}
