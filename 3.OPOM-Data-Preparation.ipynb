{
 "cells": [
  {
   "cell_type": "code",
   "execution_count": 40,
   "metadata": {},
   "outputs": [],
   "source": [
    "# Import packages\n",
    "import matplotlib\n",
    "import matplotlib.pyplot as plt\n",
    "import numpy as np\n",
    "import pandas as pd"
   ]
  },
  {
   "cell_type": "code",
   "execution_count": 41,
   "metadata": {},
   "outputs": [],
   "source": [
    "df_OPOM = pd.read_csv('OPOM_testing.csv')"
   ]
  },
  {
   "cell_type": "code",
   "execution_count": 42,
   "metadata": {},
   "outputs": [
    {
     "data": {
      "text/plain": [
       "['Unnamed: 0',\n",
       " 'Unnamed: 0.1',\n",
       " 'Unnamed: 0.1.1',\n",
       " 'SUBJECT_ID',\n",
       " 'SUBJECT_KEY',\n",
       " 'LISTING_DATE',\n",
       " 'AGE_AT_LISTING',\n",
       " 'PATIENT_STATUS',\n",
       " 'PATIENT_STATUS_DESCR',\n",
       " 'TREATMENT_PHASE',\n",
       " 'TREATMENT_PHASE_DESCR',\n",
       " 'TX_NUMBER',\n",
       " 'SEX',\n",
       " 'SEX_DESCR',\n",
       " 'HEIGHT_AT_LISTING',\n",
       " 'WEIGHT_AT_LISTING',\n",
       " 'BLOOD_TYPE',\n",
       " 'BLOOD_TYPE_DESCR',\n",
       " 'RH_FACTOR',\n",
       " 'RH_FACTOR_DESCR',\n",
       " 'P_DIAG',\n",
       " 'P_DIAG_DESCR',\n",
       " 'SEC_DIAG',\n",
       " 'SEC_DIAG_DESCR',\n",
       " 'SMOKER',\n",
       " 'PREV_SURG',\n",
       " 'DIALYSIS_TYPE',\n",
       " 'DIALYSIS_START_DATE',\n",
       " 'LIFE_SUPPORT',\n",
       " 'VENTILATOR_DEPENDENT',\n",
       " 'IV_INATROPES',\n",
       " 'VAD',\n",
       " 'IABP',\n",
       " 'TIPS',\n",
       " 'ENCEPHALOPATHY',\n",
       " 'VARICES',\n",
       " 'ASCITES',\n",
       " 'UNLISTED_REASON',\n",
       " 'UNLISTED_REASON_DESCR',\n",
       " 'UNLISTED_DATE',\n",
       " 'CAUSE_OF_DEATH',\n",
       " 'CAUSE_OF_DEATH_DESCR',\n",
       " 'LIST_ID',\n",
       " 'CREAT',\n",
       " 'BILT',\n",
       " 'AST',\n",
       " 'ALT',\n",
       " 'ALK_PHOS',\n",
       " 'PLATELETS',\n",
       " 'WBC',\n",
       " 'ALB',\n",
       " 'EST_GFR',\n",
       " 'MELD',\n",
       " 'HGB',\n",
       " 'INR',\n",
       " 'lab_id',\n",
       " 'DAYS_FROM_LISTING',\n",
       " 'Na',\n",
       " 'HCO3',\n",
       " 'GLUCOSE',\n",
       " 'CALC',\n",
       " 'MG',\n",
       " 'PHOS',\n",
       " 'Drop_off',\n",
       " 'Interval',\n",
       " 'Drop_3M',\n",
       " 'PREV_SUBJECT_ID',\n",
       " 'PREV_CREAT',\n",
       " 'PREV2_SUBJECT_ID',\n",
       " 'PREV2_CREAT',\n",
       " 'DEL_CREAT',\n",
       " 'PREV_BILT',\n",
       " 'PREV2_BILT',\n",
       " 'DEL_BILT',\n",
       " 'PREV_AST',\n",
       " 'PREV2_AST',\n",
       " 'DEL_AST',\n",
       " 'PREV_ALT',\n",
       " 'PREV2_ALT',\n",
       " 'DEL_ALT',\n",
       " 'PREV_ALK_PHOS',\n",
       " 'PREV2_ALK_PHOS',\n",
       " 'DEL_ALK_PHOS',\n",
       " 'PREV_PLATELETS',\n",
       " 'PREV2_PLATELETS',\n",
       " 'DEL_PLATELETS',\n",
       " 'PREV_WBC',\n",
       " 'PREV2_WBC',\n",
       " 'DEL_WBC',\n",
       " 'PREV_ALB',\n",
       " 'PREV2_ALB',\n",
       " 'DEL_ALB',\n",
       " 'PREV_MELD',\n",
       " 'PREV2_MELD',\n",
       " 'DEL_MELD',\n",
       " 'PREV_HGB',\n",
       " 'PREV2_HGB',\n",
       " 'DEL_HGB',\n",
       " 'PREV_INR',\n",
       " 'PREV2_INR',\n",
       " 'DEL_INR',\n",
       " 'PREV_Na',\n",
       " 'PREV2_Na',\n",
       " 'DEL_Na',\n",
       " 'PREV_HCO3',\n",
       " 'PREV2_HCO3',\n",
       " 'DEL_HCO3',\n",
       " 'PREV_GLUCOSE',\n",
       " 'PREV2_GLUCOSE',\n",
       " 'DEL_GLUCOSE',\n",
       " 'PREV_CALC',\n",
       " 'PREV2_CALC',\n",
       " 'DEL_CALC',\n",
       " 'PREV_MG',\n",
       " 'PREV2_MG',\n",
       " 'DEL_MG',\n",
       " 'PREV_PHOS',\n",
       " 'PREV2_PHOS',\n",
       " 'DEL_PHOS',\n",
       " 'LISTING_TIME',\n",
       " 'Age',\n",
       " 'PREV_DIALYSIS_TYPE',\n",
       " ' ',\n",
       " 'A',\n",
       " 'AB',\n",
       " 'B',\n",
       " 'O',\n",
       " 'eBILT',\n",
       " 'eCREAT',\n",
       " 'eINR']"
      ]
     },
     "execution_count": 42,
     "metadata": {},
     "output_type": "execute_result"
    }
   ],
   "source": [
    "list(df_OPOM)"
   ]
  },
  {
   "cell_type": "code",
   "execution_count": 43,
   "metadata": {},
   "outputs": [],
   "source": [
    "\n",
    "df_OPOM = df_OPOM.rename(columns={\"PREV_CREAT\":\"pCREAT\", 'PREV_BILT': 'pBILT', 'PREV_ALB': 'pALB', 'PREV_MELD': 'pMELD', 'PREV_INR': 'pINR', 'PREV_MELD': 'pMELD', \n",
    "                                  'PREV_Na': 'pNa', 'DEL_BILT':'dBILT',  'DEL_ALB':'dALB', 'DEL_INR':'dINR',  'DEL_MELD':'dMELD', 'DEL_Na':'dNa',\n",
    "                                  'LISTING_TIME': 'ListYears','DIALYSIS_TYPE': 'Dialysis', 'PREV_DIALYSIS_TYPE': 'pDialysis'})"
   ]
  },
  {
   "cell_type": "code",
   "execution_count": 44,
   "metadata": {},
   "outputs": [],
   "source": [
    "df_OPOM['Live'] = 1- df_OPOM['Drop_3M']"
   ]
  },
  {
   "cell_type": "code",
   "execution_count": 45,
   "metadata": {},
   "outputs": [],
   "source": [
    "\n",
    "OPOM_columns = ['CREAT', 'BILT', 'ALB', 'MELD', 'INR', 'Na' ,'pCREAT', 'pBILT', 'pALB', 'pMELD', 'pINR', 'pMELD', 'pNa', 'pCREAT', 'dBILT',  'dALB', 'dINR',  'dMELD', 'dNa',   'Age',  \n",
    "                'ListYears', 'Dialysis', 'pDialysis','eBILT', 'eCREAT', 'eINR', 'SUBJECT_ID', 'Live', 'P_DIAG_DESCR', 'SEC_DIAG_DESCR', 'Drop_3M'\n",
    "               ]"
   ]
  },
  {
   "cell_type": "code",
   "execution_count": 46,
   "metadata": {},
   "outputs": [],
   "source": [
    "df_OPOM1 = df_OPOM[OPOM_columns]"
   ]
  },
  {
   "cell_type": "code",
   "execution_count": 47,
   "metadata": {},
   "outputs": [],
   "source": [
    "#df_val.DIALYSIS_TYPE[df_val['DIALYSIS_TYPE']!=0] = 1\n",
    "df_OPOM_NHCC = df_OPOM1[df_OPOM1['P_DIAG_DESCR'] != 'Hepatocellular Ca (HCC) ']"
   ]
  },
  {
   "cell_type": "code",
   "execution_count": 48,
   "metadata": {},
   "outputs": [],
   "source": [
    "df_OPOM_NHCC2 = df_OPOM_NHCC[df_OPOM_NHCC['SEC_DIAG_DESCR'] != 'Hepatocellular Ca (HCC) ']"
   ]
  },
  {
   "cell_type": "code",
   "execution_count": 49,
   "metadata": {},
   "outputs": [],
   "source": [
    "OPOM_patients = df_OPOM_NHCC2.dropna(how='any')"
   ]
  },
  {
   "cell_type": "code",
   "execution_count": 50,
   "metadata": {},
   "outputs": [
    {
     "data": {
      "text/plain": [
       "2    11.0\n",
       "3     7.0\n",
       "4     8.0\n",
       "5     7.0\n",
       "6     8.0\n",
       "Name: MELD, dtype: float64"
      ]
     },
     "execution_count": 50,
     "metadata": {},
     "output_type": "execute_result"
    }
   ],
   "source": [
    "OPOM_patients.MELD.head()"
   ]
  },
  {
   "cell_type": "code",
   "execution_count": 51,
   "metadata": {},
   "outputs": [],
   "source": [
    "# Calculate mortality based on MELD\n",
    "OPOM_patients.loc[(OPOM_patients.MELD >= 40), 'MELD_prob'] = 0.713\n",
    "OPOM_patients.loc[(OPOM_patients.MELD <= 39)&(OPOM_patients.MELD >= 30), 'MELD_prob'] = 0.526\n",
    "OPOM_patients.loc[(OPOM_patients.MELD <= 29)&(OPOM_patients.MELD >= 20), 'MELD_prob'] = 0.196\n",
    "OPOM_patients.loc[(OPOM_patients.MELD <= 19)&(OPOM_patients.MELD >= 10), 'MELD_prob'] = 0.06\n",
    "OPOM_patients.loc[(OPOM_patients.MELD <= 9), 'MELD_prob'] = 0.019"
   ]
  },
  {
   "cell_type": "code",
   "execution_count": 52,
   "metadata": {},
   "outputs": [
    {
     "name": "stderr",
     "output_type": "stream",
     "text": [
      "/home/jupyterlab/conda/lib/python3.6/site-packages/ipykernel_launcher.py:2: SettingWithCopyWarning: \n",
      "A value is trying to be set on a copy of a slice from a DataFrame.\n",
      "Try using .loc[row_indexer,col_indexer] = value instead\n",
      "\n",
      "See the caveats in the documentation: http://pandas.pydata.org/pandas-docs/stable/indexing.html#indexing-view-versus-copy\n",
      "  \n"
     ]
    }
   ],
   "source": [
    "# Calculate MELD-NA, rounded to nearest int\n",
    "OPOM_patients['MELD_Na'] = round(OPOM_patients['MELD'] - OPOM_patients['Na'] - (0.025*OPOM_patients['MELD']*(140-OPOM_patients['Na']))+140, 0)"
   ]
  },
  {
   "cell_type": "code",
   "execution_count": 53,
   "metadata": {},
   "outputs": [],
   "source": [
    "# Calculate mortality based on MELD_Na\n",
    "OPOM_patients.loc[OPOM_patients.MELD_Na >= 40, 'MELD_Na_prob'] = 0.713\n",
    "OPOM_patients.loc[(OPOM_patients.MELD_Na <= 39)&(OPOM_patients.MELD_Na >= 30), 'MELD_Na_prob'] = 0.526\n",
    "OPOM_patients.loc[(OPOM_patients.MELD_Na <= 29)&(OPOM_patients.MELD_Na >= 20), 'MELD_Na_prob'] = 0.196\n",
    "OPOM_patients.loc[(OPOM_patients.MELD_Na <= 19)&(OPOM_patients.MELD_Na >= 10), 'MELD_Na_prob'] = 0.06\n",
    "OPOM_patients.loc[OPOM_patients.MELD_Na <= 9, 'MELD_Na_prob'] = 0.019"
   ]
  },
  {
   "cell_type": "code",
   "execution_count": 54,
   "metadata": {},
   "outputs": [],
   "source": [
    "a = OPOM_patients.SUBJECT_ID.unique()"
   ]
  },
  {
   "cell_type": "code",
   "execution_count": 55,
   "metadata": {},
   "outputs": [],
   "source": [
    "#len(a)"
   ]
  },
  {
   "cell_type": "code",
   "execution_count": 58,
   "metadata": {},
   "outputs": [
    {
     "data": {
      "text/html": [
       "<div>\n",
       "<style scoped>\n",
       "    .dataframe tbody tr th:only-of-type {\n",
       "        vertical-align: middle;\n",
       "    }\n",
       "\n",
       "    .dataframe tbody tr th {\n",
       "        vertical-align: top;\n",
       "    }\n",
       "\n",
       "    .dataframe thead th {\n",
       "        text-align: right;\n",
       "    }\n",
       "</style>\n",
       "<table border=\"1\" class=\"dataframe\">\n",
       "  <thead>\n",
       "    <tr style=\"text-align: right;\">\n",
       "      <th></th>\n",
       "      <th>CREAT</th>\n",
       "      <th>BILT</th>\n",
       "      <th>ALB</th>\n",
       "      <th>MELD</th>\n",
       "      <th>INR</th>\n",
       "      <th>Na</th>\n",
       "      <th>pCREAT</th>\n",
       "      <th>pBILT</th>\n",
       "      <th>pALB</th>\n",
       "      <th>pMELD</th>\n",
       "      <th>...</th>\n",
       "      <th>eCREAT</th>\n",
       "      <th>eINR</th>\n",
       "      <th>SUBJECT_ID</th>\n",
       "      <th>Live</th>\n",
       "      <th>P_DIAG_DESCR</th>\n",
       "      <th>SEC_DIAG_DESCR</th>\n",
       "      <th>Drop_3M</th>\n",
       "      <th>MELD_prob</th>\n",
       "      <th>MELD_Na</th>\n",
       "      <th>MELD_Na_prob</th>\n",
       "    </tr>\n",
       "  </thead>\n",
       "  <tbody>\n",
       "    <tr>\n",
       "      <th>2</th>\n",
       "      <td>119.0</td>\n",
       "      <td>0.760234</td>\n",
       "      <td>3.5</td>\n",
       "      <td>11.0</td>\n",
       "      <td>1.20</td>\n",
       "      <td>140.0</td>\n",
       "      <td>177.0</td>\n",
       "      <td>0.818713</td>\n",
       "      <td>3.7</td>\n",
       "      <td>15.0</td>\n",
       "      <td>...</td>\n",
       "      <td>2.075547</td>\n",
       "      <td>0.079181</td>\n",
       "      <td>1</td>\n",
       "      <td>1</td>\n",
       "      <td>Nonalcoholic steatohepatitis (NASH)</td>\n",
       "      <td>Unknown</td>\n",
       "      <td>0</td>\n",
       "      <td>0.060</td>\n",
       "      <td>11.0</td>\n",
       "      <td>0.060</td>\n",
       "    </tr>\n",
       "    <tr>\n",
       "      <th>3</th>\n",
       "      <td>97.0</td>\n",
       "      <td>0.701754</td>\n",
       "      <td>3.3</td>\n",
       "      <td>7.0</td>\n",
       "      <td>0.97</td>\n",
       "      <td>137.0</td>\n",
       "      <td>119.0</td>\n",
       "      <td>0.760234</td>\n",
       "      <td>3.5</td>\n",
       "      <td>11.0</td>\n",
       "      <td>...</td>\n",
       "      <td>1.986772</td>\n",
       "      <td>-0.013228</td>\n",
       "      <td>1</td>\n",
       "      <td>1</td>\n",
       "      <td>Nonalcoholic steatohepatitis (NASH)</td>\n",
       "      <td>Unknown</td>\n",
       "      <td>0</td>\n",
       "      <td>0.019</td>\n",
       "      <td>9.0</td>\n",
       "      <td>0.019</td>\n",
       "    </tr>\n",
       "    <tr>\n",
       "      <th>4</th>\n",
       "      <td>95.0</td>\n",
       "      <td>0.643275</td>\n",
       "      <td>3.7</td>\n",
       "      <td>8.0</td>\n",
       "      <td>1.10</td>\n",
       "      <td>140.0</td>\n",
       "      <td>97.0</td>\n",
       "      <td>0.701754</td>\n",
       "      <td>3.3</td>\n",
       "      <td>7.0</td>\n",
       "      <td>...</td>\n",
       "      <td>1.977724</td>\n",
       "      <td>0.041393</td>\n",
       "      <td>1</td>\n",
       "      <td>1</td>\n",
       "      <td>Nonalcoholic steatohepatitis (NASH)</td>\n",
       "      <td>Unknown</td>\n",
       "      <td>0</td>\n",
       "      <td>0.019</td>\n",
       "      <td>8.0</td>\n",
       "      <td>0.019</td>\n",
       "    </tr>\n",
       "    <tr>\n",
       "      <th>5</th>\n",
       "      <td>86.0</td>\n",
       "      <td>0.584795</td>\n",
       "      <td>3.6</td>\n",
       "      <td>7.0</td>\n",
       "      <td>1.02</td>\n",
       "      <td>137.0</td>\n",
       "      <td>95.0</td>\n",
       "      <td>0.643275</td>\n",
       "      <td>3.7</td>\n",
       "      <td>8.0</td>\n",
       "      <td>...</td>\n",
       "      <td>1.934498</td>\n",
       "      <td>0.008600</td>\n",
       "      <td>1</td>\n",
       "      <td>1</td>\n",
       "      <td>Nonalcoholic steatohepatitis (NASH)</td>\n",
       "      <td>Unknown</td>\n",
       "      <td>0</td>\n",
       "      <td>0.019</td>\n",
       "      <td>9.0</td>\n",
       "      <td>0.019</td>\n",
       "    </tr>\n",
       "    <tr>\n",
       "      <th>6</th>\n",
       "      <td>90.0</td>\n",
       "      <td>0.292398</td>\n",
       "      <td>3.9</td>\n",
       "      <td>8.0</td>\n",
       "      <td>1.10</td>\n",
       "      <td>141.0</td>\n",
       "      <td>86.0</td>\n",
       "      <td>0.584795</td>\n",
       "      <td>3.6</td>\n",
       "      <td>7.0</td>\n",
       "      <td>...</td>\n",
       "      <td>1.954243</td>\n",
       "      <td>0.041393</td>\n",
       "      <td>1</td>\n",
       "      <td>1</td>\n",
       "      <td>Nonalcoholic steatohepatitis (NASH)</td>\n",
       "      <td>Unknown</td>\n",
       "      <td>0</td>\n",
       "      <td>0.019</td>\n",
       "      <td>7.0</td>\n",
       "      <td>0.019</td>\n",
       "    </tr>\n",
       "  </tbody>\n",
       "</table>\n",
       "<p>5 rows × 34 columns</p>\n",
       "</div>"
      ],
      "text/plain": [
       "   CREAT      BILT  ALB  MELD   INR     Na  pCREAT     pBILT  pALB  pMELD  \\\n",
       "2  119.0  0.760234  3.5  11.0  1.20  140.0   177.0  0.818713   3.7   15.0   \n",
       "3   97.0  0.701754  3.3   7.0  0.97  137.0   119.0  0.760234   3.5   11.0   \n",
       "4   95.0  0.643275  3.7   8.0  1.10  140.0    97.0  0.701754   3.3    7.0   \n",
       "5   86.0  0.584795  3.6   7.0  1.02  137.0    95.0  0.643275   3.7    8.0   \n",
       "6   90.0  0.292398  3.9   8.0  1.10  141.0    86.0  0.584795   3.6    7.0   \n",
       "\n",
       "   ...    eCREAT      eINR  SUBJECT_ID  Live  \\\n",
       "2  ...  2.075547  0.079181           1     1   \n",
       "3  ...  1.986772 -0.013228           1     1   \n",
       "4  ...  1.977724  0.041393           1     1   \n",
       "5  ...  1.934498  0.008600           1     1   \n",
       "6  ...  1.954243  0.041393           1     1   \n",
       "\n",
       "                          P_DIAG_DESCR  SEC_DIAG_DESCR  Drop_3M  MELD_prob  \\\n",
       "2  Nonalcoholic steatohepatitis (NASH)         Unknown        0      0.060   \n",
       "3  Nonalcoholic steatohepatitis (NASH)         Unknown        0      0.019   \n",
       "4  Nonalcoholic steatohepatitis (NASH)         Unknown        0      0.019   \n",
       "5  Nonalcoholic steatohepatitis (NASH)         Unknown        0      0.019   \n",
       "6  Nonalcoholic steatohepatitis (NASH)         Unknown        0      0.019   \n",
       "\n",
       "   MELD_Na  MELD_Na_prob  \n",
       "2     11.0         0.060  \n",
       "3      9.0         0.019  \n",
       "4      8.0         0.019  \n",
       "5      9.0         0.019  \n",
       "6      7.0         0.019  \n",
       "\n",
       "[5 rows x 34 columns]"
      ]
     },
     "execution_count": 58,
     "metadata": {},
     "output_type": "execute_result"
    }
   ],
   "source": [
    "OPOM_patients.head()"
   ]
  },
  {
   "cell_type": "code",
   "execution_count": 57,
   "metadata": {},
   "outputs": [],
   "source": [
    "OPOM_patients.to_csv('OPOM_tested.csv')"
   ]
  },
  {
   "cell_type": "code",
   "execution_count": null,
   "metadata": {},
   "outputs": [],
   "source": []
  },
  {
   "cell_type": "code",
   "execution_count": null,
   "metadata": {},
   "outputs": [],
   "source": []
  }
 ],
 "metadata": {
  "kernelspec": {
   "display_name": "Python 3",
   "language": "python",
   "name": "python3"
  },
  "language_info": {
   "codemirror_mode": {
    "name": "ipython",
    "version": 3
   },
   "file_extension": ".py",
   "mimetype": "text/x-python",
   "name": "python",
   "nbconvert_exporter": "python",
   "pygments_lexer": "ipython3",
   "version": "3.6.8"
  }
 },
 "nbformat": 4,
 "nbformat_minor": 2
}
